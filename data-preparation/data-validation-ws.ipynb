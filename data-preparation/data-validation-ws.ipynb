{
 "cells": [
  {
   "cell_type": "code",
   "execution_count": 1,
   "metadata": {
    "collapsed": true
   },
   "outputs": [],
   "source": [
    "import math\n",
    "import json\n",
    "import numpy as np\n",
    "import falconn\n",
    "import timeit\n",
    "from __future__ import print_function\n",
    "import psycopg2\n",
    "import pandas as pd\n",
    "from configparser import ConfigParser\n",
    "import requests\n",
    "import re\n",
    "import traceback"
   ]
  },
  {
   "cell_type": "code",
   "execution_count": 50,
   "metadata": {
    "collapsed": true
   },
   "outputs": [],
   "source": [
    "def config(filename='prepare_data.ini', section='phonetic'):\n",
    "    parser = ConfigParser()\n",
    "    parser.read(filename)\n",
    "    db = {}\n",
    "    if parser.has_section(section):\n",
    "        params = parser.items(section)\n",
    "        for param in params:\n",
    "            db[param[0]] = param[1]\n",
    "    else:\n",
    "        raise Exception('Section {0} not found in the {1} file'.format(section, filename))\n",
    " \n",
    "    return db\n",
    "\n",
    "def db_connect():\n",
    "    \"\"\" Connect to the PostgreSQL database server \"\"\"\n",
    "    conn = None\n",
    "    params = config()\n",
    "    conn = psycopg2.connect(**params)\n",
    "    return conn\n",
    "\n",
    "def read_dataframe():\n",
    "    conn = db_connect()\n",
    "    result = None\n",
    "    try:\n",
    "        query = \"\"\"\n",
    "            SELECT * FROM validation.validation_data\n",
    "            \"\"\"\n",
    "        result = pd.read_sql(query, con=conn, index_col='id')\n",
    "    except (Exception, psycopg2.DatabaseError) as error:\n",
    "        print(error)\n",
    "    finally:\n",
    "        if conn is not None:\n",
    "            conn.close()\n",
    "    return result\n",
    "\n",
    "def update_db_row(idx, status, login, eng_invalidated, arb_invalidated, arb_yamli_invalidated):\n",
    "    conn = db_connect()\n",
    "    try:\n",
    "        sql = \"\"\"\n",
    "            UPDATE validation.validation_data \n",
    "            SET status = %s, login = %s, eng_invalidated = %s, arb_invalidated = %s, arb_yamli_invalidated = %s\n",
    "            WHERE id = %s\n",
    "            \"\"\"\n",
    "        cur = conn.cursor()\n",
    "        cur.execute(sql, (status, login, eng_invalidated, arb_invalidated, arb_yamli_invalidated, idx))\n",
    "        conn.commit()\n",
    "        cur.close()\n",
    "    except (Exception, psycopg2.DatabaseError) as error:\n",
    "        print(error)\n",
    "    finally:\n",
    "        if conn is not None:\n",
    "            conn.close()\n",
    "    \n",
    "    \n",
    "def claim_db_row(idx, login):\n",
    "    conn = db_connect()\n",
    "    try:\n",
    "        sql = \"\"\"\n",
    "            UPDATE validation.validation_data \n",
    "            SET status = %s, login = %s \n",
    "            WHERE id = %s\n",
    "            \"\"\"\n",
    "        cur = conn.cursor()\n",
    "        cur.execute(sql, (int(1), login, int(idx)))\n",
    "        conn.commit()\n",
    "        cur.close()\n",
    "    except (Exception, psycopg2.DatabaseError) as error:\n",
    "        print(error)\n",
    "    finally:\n",
    "        if conn is not None:\n",
    "            conn.close()\n",
    "    \n",
    "def load_next_row(login):\n",
    "    result = dict()\n",
    "    row = None\n",
    "    \n",
    "    x = df[df.status == 0]\n",
    "    if len(x) > 0:\n",
    "        row = x.iloc[0]\n",
    "    if row is None:\n",
    "        return None\n",
    "    \n",
    "    idx = int(row.name)\n",
    "    \n",
    "    df.set_value(col='status', index=idx, value=1)\n",
    "    df.set_value(col='login', index=idx, value=login)\n",
    "    row['status'] = int(1)\n",
    "    row['login'] = login\n",
    "    \n",
    "    result['id'] = idx\n",
    "    result['eng'] = row['eng']\n",
    "    result['arb'] = row['arb']\n",
    "    result['eng_variants'] = {name : 0 for name in row['eng_variants'].split(\",\")}\n",
    "    result['arb_variants'] = {name : 0 for name in row['arb_variants'].split(\",\")}\n",
    "    result['arb_yamli_variants'] = {name : 0 for name in row['arb_yamli_variants'].split(\",\")}\n",
    "    \n",
    "    claim_db_row(idx=idx, login=login)\n",
    "    \n",
    "    return result\n",
    "\n",
    "def validate_row(idx, data, login):\n",
    "    \n",
    "    df.set_value(col='status', index=idx, value=2)\n",
    "    df.set_value(col='login', index=idx, value=login)\n",
    "    \n",
    "    arb_invalidated = data['arb_invalidated']\n",
    "    arb_yamli_invalidated = data['arb_yamli_invalidated']\n",
    "    eng_invalidated = data['eng_invalidated']\n",
    "    arb = ''\n",
    "    arb_yamli = ''\n",
    "    eng = ''\n",
    "    \n",
    "    for x in arb_invalidated:\n",
    "        arb = arb + ',' + x\n",
    "    arb = arb[1:]\n",
    "    \n",
    "    for x in arb_yamli_invalidated:\n",
    "        arb_yamli = arb_yamli + ',' + x\n",
    "    arb_yamli = arb_yamli[1:]\n",
    "    \n",
    "    for x in eng_invalidated:\n",
    "        eng = eng + ',' + x\n",
    "    eng = eng[1:]\n",
    "    \n",
    "    df.set_value(col='arb_invalidated', index=idx, value=arb)\n",
    "    df.set_value(col='arb_yamli_invalidated', index=idx, value=arb_yamli)\n",
    "    df.set_value(col='eng_invalidated', index=idx, value=eng)\n",
    "    \n",
    "    update_db_row(idx=int(idx), login=login, status=2, arb_invalidated=arb, eng_invalidated=eng, arb_yamli_invalidated=arb_yamli)\n"
   ]
  },
  {
   "cell_type": "code",
   "execution_count": 3,
   "metadata": {
    "collapsed": true
   },
   "outputs": [],
   "source": [
    "df = read_dataframe()"
   ]
  },
  {
   "cell_type": "code",
   "execution_count": null,
   "metadata": {
    "collapsed": true
   },
   "outputs": [],
   "source": [
    "'''\n",
    "row = load_next_row(login)\n",
    "\n",
    "updated = dict()\n",
    "updated['arb_invalidated'] = {}\n",
    "updated['arb_yamli_invalidated'] = {}\n",
    "updated['eng_invalidated'] = {}\n",
    "\n",
    "i = 0\n",
    "for a in row['arb_variants']:\n",
    "    updated['arb_invalidated'][a] = i%2 \n",
    "    i = i + 1\n",
    "i = 0\n",
    "for a in row['arb_yamli_variants']:\n",
    "    updated['arb_yamli_invalidated'][a] = i%2 \n",
    "    i = i + 1\n",
    "i = 0\n",
    "for a in row['eng_variants']:\n",
    "    updated['eng_invalidated'][a] = i%2 \n",
    "    i = i + 1\n",
    "\n",
    "validate_row(row['id'], updated, 'cez')\n",
    "'''"
   ]
  },
  {
   "cell_type": "code",
   "execution_count": 53,
   "metadata": {},
   "outputs": [
    {
     "name": "stdout",
     "output_type": "stream",
     "text": [
      "{'eng_invalidated': ['ZAID'], 'arb_invalidated': ['ذيد'], 'arb_yamli_invalidated': ['زيد']}\n",
      "['ذيد']\n",
      "['زيد']\n",
      "['ZAID']\n",
      "ذيد\n",
      "زيد\n",
      "ZAID\n",
      "{\"result\": {\"data\": {\"id\": 38, \"eng\": \"HISHAM\", \"arb\": \"\\u0647\\u0634\\u0627\\u0645\", \"eng_variants\": {\"HISHAM\": 0, \"HESHAM\": 0, \"HUSHAM\": 0}, \"arb_variants\": {\"\\u062d\\u0634\\u0627\\u0645\": 0, \"\\u062d\\u0627\\u0634\\u0645\": 0, \"\\u0647\\u0648\\u0634\\u0627\\u0645\": 0, \"\\u062d\\u064a\\u0634\\u0645\": 0, \"\\u062d\\u0633\\u0647\\u0645\": 0, \"\\u0647\\u0648\\u0634\\u0645\": 0, \"\\u062d\\u062b\\u0647\\u0645\": 0, \"\\u062d\\u0648\\u0634\\u0645\": 0, \"\\u0647\\u0634\\u0627\\u0645\": 0, \"\\u062d\\u0627\\u062b\\u0647\\u0645\": 0, \"\\u062d\\u0634\\u0645\": 0, \"\\u0647\\u0648\\u0633\\u0647\\u0645\": 0, \"\\u0647\\u064a\\u0634\\u0627\\u0645\": 0, \"\\u0647\\u0627\\u0634\\u0645\": 0, \"\\u0647\\u064a\\u0634\\u0645\": 0, \"\\u062d\\u0627\\u0633\\u0647\\u0645\": 0, \"\\u062d\\u064a\\u0634\\u0627\\u0645\": 0, \"\\u0647\\u0634\\u0645\": 0}, \"arb_yamli_variants\": {\"\\u0647\\u0634\\u0627\\u0645\": 0, \"\\u0647\\u064a\\u0634\\u0627\\u0645\": 0}}, \"message\": \"\"}}\n"
     ]
    },
    {
     "name": "stderr",
     "output_type": "stream",
     "text": [
      "/opt/anaconda3/lib/python3.6/site-packages/ipykernel_launcher.py:87: SettingWithCopyWarning: \n",
      "A value is trying to be set on a copy of a slice from a DataFrame\n",
      "\n",
      "See the caveats in the documentation: http://pandas.pydata.org/pandas-docs/stable/indexing.html#indexing-view-versus-copy\n",
      "/opt/anaconda3/lib/python3.6/site-packages/ipykernel_launcher.py:88: SettingWithCopyWarning: \n",
      "A value is trying to be set on a copy of a slice from a DataFrame\n",
      "\n",
      "See the caveats in the documentation: http://pandas.pydata.org/pandas-docs/stable/indexing.html#indexing-view-versus-copy\n"
     ]
    }
   ],
   "source": [
    "# POST /validate\n",
    "\n",
    "req = json.loads(REQUEST)\n",
    "body = req['body']\n",
    "\n",
    "login = 'unspecified'\n",
    "index = -1\n",
    "updated = None\n",
    "\n",
    "if 'login' in body:\n",
    "    login = body['login']\n",
    "if 'index' in body and len(body['index']) > 0:\n",
    "    index = body['index']\n",
    "if 'updated' in body:\n",
    "    updated = body['updated']\n",
    "\n",
    "result = dict()\n",
    "msg = ''\n",
    "\n",
    "if (updated is not None and index != -1):\n",
    "    validate_row(idx=index, data=updated, login=login)\n",
    "    \n",
    "result['data'] = load_next_row(login)\n",
    "result['message'] = msg\n",
    "    \n",
    "print(json.dumps({'result': result}))"
   ]
  },
  {
   "cell_type": "code",
   "execution_count": 52,
   "metadata": {},
   "outputs": [
    {
     "data": {
      "text/plain": [
       "'{\"body\":{\"login\":\"dsaf\",\"index\":\"106\",\"updated\":{\"eng_invalidated\":[\"ZAID\"],\"arb_invalidated\":[\"ذيد\"],\"arb_yamli_invalidated\":[\"زيد\"]}}}'"
      ]
     },
     "execution_count": 52,
     "metadata": {},
     "output_type": "execute_result"
    }
   ],
   "source": [
    "'''row = load_next_row('test')\n",
    "\n",
    "updated = dict()\n",
    "updated['arb_invalidated'] = {}\n",
    "updated['arb_yamli_invalidated'] = {}\n",
    "updated['eng_invalidated'] = {}\n",
    "\n",
    "i = 0\n",
    "for a in row['arb_variants']:\n",
    "    updated['arb_invalidated'][a] = i%2 \n",
    "    i = i + 1\n",
    "i = 0\n",
    "for a in row['arb_yamli_variants']:\n",
    "    updated['arb_yamli_invalidated'][a] = i%2 \n",
    "    i = i + 1\n",
    "i = 0\n",
    "for a in row['eng_variants']:\n",
    "    updated['eng_invalidated'][a] = i%2 \n",
    "    i = i + 1\n",
    "\n",
    "b ={}\n",
    "b['login'] = 'test'\n",
    "b['index'] = row['id']\n",
    "b['updated'] = updated\n",
    "\n",
    "REQUEST = json.dumps({\n",
    "'path' : {},\n",
    "'args' : {},\n",
    "'body' : b\n",
    "})\n",
    "REQUEST'''\n",
    "\n",
    "\n",
    "REQUEST = '{\"body\":{\"login\":\"dsaf\",\"index\":\"106\",\"updated\":{\"eng_invalidated\":[\"ZAID\"],\"arb_invalidated\":[\"ذيد\"],\"arb_yamli_invalidated\":[\"زيد\"]}}}'\n",
    "REQUEST"
   ]
  },
  {
   "cell_type": "code",
   "execution_count": 54,
   "metadata": {},
   "outputs": [
    {
     "data": {
      "text/plain": [
       "'{\"body\":{\"login\":\"dsaf\",\"index\":\"106\",\"updated\":{\"eng_invalidated\":[\"ZAID\"],\"arb_invalidated\":[\"ذيد\"],\"arb_yamli_invalidated\":[\"زيد\"]}}}'"
      ]
     },
     "execution_count": 54,
     "metadata": {},
     "output_type": "execute_result"
    }
   ],
   "source": [
    "REQUEST"
   ]
  },
  {
   "cell_type": "code",
   "execution_count": null,
   "metadata": {
    "collapsed": true
   },
   "outputs": [],
   "source": [
    " "
   ]
  }
 ],
 "metadata": {
  "kernelspec": {
   "display_name": "Python 3",
   "language": "python",
   "name": "python3"
  },
  "language_info": {
   "codemirror_mode": {
    "name": "ipython",
    "version": 3
   },
   "file_extension": ".py",
   "mimetype": "text/x-python",
   "name": "python",
   "nbconvert_exporter": "python",
   "pygments_lexer": "ipython3",
   "version": "3.6.1"
  }
 },
 "nbformat": 4,
 "nbformat_minor": 2
}
