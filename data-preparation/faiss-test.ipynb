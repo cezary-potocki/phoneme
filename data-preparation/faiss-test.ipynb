{
 "cells": [
  {
   "cell_type": "code",
   "execution_count": 18,
   "metadata": {},
   "outputs": [],
   "source": [
    "import faiss\n",
    "import os\n",
    "import pandas as pd\n",
    "import numpy as np\n",
    "import requests\n",
    "import pyphi"
   ]
  },
  {
   "cell_type": "code",
   "execution_count": 11,
   "metadata": {
    "collapsed": true
   },
   "outputs": [],
   "source": [
    "def call_embedding_ws(names):\n",
    "#    url = 'http://54.36.53.127:8009/embedding'\n",
    "    url = 'http://127.0.0.1:8009/embedding'\n",
    "    headers = {\"content-type\": \"application/json\"}\n",
    "    response = requests.post(url, json=names)\n",
    "    arr = pyphi.jsonify.loads(response.text)\n",
    "    x = np.array(arr)\n",
    "    x = x.astype(dtype=np.float32)\n",
    "    return x\n",
    "\n",
    "def reverse_name(name):\n",
    "    a=name.split()\n",
    "    a.reverse()\n",
    "    return \" \".join(a)\n",
    "\n",
    "def cos_similarity(a, b):\n",
    "    dot_product = np.dot(a, b)\n",
    "    norm_a = np.linalg.norm(a)\n",
    "    norm_b = np.linalg.norm(b)\n",
    "    return dot_product / (norm_a * norm_b)\n",
    "    return dot_product\n",
    "\n",
    "def sort_by_distance(query_vector, result_vectors):\n",
    "    for v in result_vectors:\n",
    "        cos_similarity(query_vector, v)\n",
    "        \n",
    "def is_arabic(name):\n",
    "    res = re.findall(r'[\\u0600-\\u06FF]+',name)\n",
    "    if len(res) == 0:\n",
    "        return False\n",
    "    else:\n",
    "        return True"
   ]
  },
  {
   "cell_type": "code",
   "execution_count": 24,
   "metadata": {
    "collapsed": true
   },
   "outputs": [],
   "source": [
    "source_vectors = pd.read_csv('/data/test-sets/eng_eng/vectors_pos_eng_eng_2x3.tsv', sep='\\t', usecols=[2,3,4,5])"
   ]
  },
  {
   "cell_type": "code",
   "execution_count": 44,
   "metadata": {},
   "outputs": [],
   "source": [
    "left_vector_strings = source_vectors['left_vector'].as_matrix()\n",
    "left_vectors = np.zeros(shape=(len(left_vector_strings),256))\n",
    "i = 0\n",
    "for v in left_vector_strings:\n",
    "    x = np.fromstring(v, dtype=np.float32, sep=',')\n",
    "    left_vectors[i] = x\n",
    "    i = i+1\n",
    "left_vectors = left_vectors.astype('float32')\n",
    "left_vector_strings = None"
   ]
  },
  {
   "cell_type": "code",
   "execution_count": 45,
   "metadata": {},
   "outputs": [
    {
     "data": {
      "text/plain": [
       "11144"
      ]
     },
     "execution_count": 45,
     "metadata": {},
     "output_type": "execute_result"
    }
   ],
   "source": [
    "len(source_vectors)"
   ]
  },
  {
   "cell_type": "code",
   "execution_count": 46,
   "metadata": {},
   "outputs": [],
   "source": [
    "d = 256\n",
    "index = faiss.IndexFlatL2(d)"
   ]
  },
  {
   "cell_type": "code",
   "execution_count": 47,
   "metadata": {},
   "outputs": [
    {
     "data": {
      "text/plain": [
       "<swigfaiss.IndexFlatL2; proxy of <Swig Object of type 'faiss::IndexFlatL2 *' at 0x7f502dd8ffc0> >"
      ]
     },
     "execution_count": 47,
     "metadata": {},
     "output_type": "execute_result"
    }
   ],
   "source": [
    "index"
   ]
  },
  {
   "cell_type": "code",
   "execution_count": 48,
   "metadata": {},
   "outputs": [
    {
     "name": "stdout",
     "output_type": "stream",
     "text": [
      "True\n",
      "11144\n"
     ]
    }
   ],
   "source": [
    "print(index.is_trained)\n",
    "index.add(left_vectors)                  # add vectors to the index\n",
    "print(index.ntotal)"
   ]
  },
  {
   "cell_type": "code",
   "execution_count": 51,
   "metadata": {},
   "outputs": [
    {
     "name": "stdout",
     "output_type": "stream",
     "text": [
      "True\n",
      "100000\n",
      "I: [[  0 393 363  78 924]\n",
      " [  1 555 277 364 617]\n",
      " [  2 304 101  13 801]\n",
      " [  3 173  18 182 484]\n",
      " [  4 288 370 531 178]]\n",
      "D: [[ 0.          7.17517328  7.2076292   7.25116253  7.32189512]\n",
      " [ 0.          6.32356453  6.6845808   6.79994535  6.88447952]\n",
      " [ 0.          5.79640865  6.39173603  7.28151226  7.64050198]\n",
      " [ 0.          7.27790546  7.52798653  7.66284657  7.78595734]\n",
      " [ 0.          6.76380348  7.29512024  7.36881447  7.3900466 ]]\n",
      "I: [[ 381  207  210  477  588]\n",
      " [ 526  911  142   72  300]\n",
      " [ 838  527 1290  425  281]\n",
      " [ 196  184  164  359  466]\n",
      " [ 526  377  120  425  545]]\n",
      "I: [[ 9900 10500  9309  9831  9810]\n",
      " [11055 10895 10812 11321 10260]\n",
      " [11353 11103 10164  9787 10719]\n",
      " [10571 10664 10632  9638  9589]\n",
      " [ 9628  9554 10036  9582 10304]]\n"
     ]
    }
   ],
   "source": [
    "import numpy as np\n",
    "d = 64                           # dimension\n",
    "nb = 100000                      # database size\n",
    "nq = 10000                       # nb of queries\n",
    "np.random.seed(1234)             # make reproducible\n",
    "xb = np.random.random((nb, d)).astype('float32')\n",
    "xb[:, 0] += np.arange(nb) / 1000.\n",
    "xq = np.random.random((nq, d)).astype('float32')\n",
    "xq[:, 0] += np.arange(nq) / 1000.\n",
    "\n",
    "import faiss                   # make faiss available\n",
    "index = faiss.IndexFlatL2(d)   # build the index\n",
    "print(index.is_trained)\n",
    "index.add(xb)                  # add vectors to the index\n",
    "print(index.ntotal)\n",
    "\n",
    "k = 5                          # we want to see 4 nearest neighbors\n",
    "D, I = index.search(xb[:5], k) # sanity check\n",
    "print(\"I: {i}\".format(i=I))\n",
    "print(\"D: {d}\".format(d=D))\n",
    "D, I = index.search(xq, k)     # actual search\n",
    "print(\"I: {i}\".format(i=I[:5]))                    # neighbors of the 5 first queries\n",
    "print(\"I: {i}\".format(i=I[-5:]))                   # neighbors of the 5 last queries"
   ]
  },
  {
   "cell_type": "code",
   "execution_count": null,
   "metadata": {
    "collapsed": true
   },
   "outputs": [],
   "source": []
  }
 ],
 "metadata": {
  "kernelspec": {
   "display_name": "Python 3",
   "language": "python",
   "name": "python3"
  },
  "language_info": {
   "codemirror_mode": {
    "name": "ipython",
    "version": 3
   },
   "file_extension": ".py",
   "mimetype": "text/x-python",
   "name": "python",
   "nbconvert_exporter": "python",
   "pygments_lexer": "ipython3",
   "version": "3.6.1"
  }
 },
 "nbformat": 4,
 "nbformat_minor": 2
}
