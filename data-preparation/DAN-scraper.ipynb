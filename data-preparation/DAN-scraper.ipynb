{
 "cells": [
  {
   "cell_type": "code",
   "execution_count": 2,
   "metadata": {
    "collapsed": true
   },
   "outputs": [],
   "source": [
    "from bs4 import BeautifulSoup\n",
    "import pandas as pd\n",
    "import os\n",
    "import codecs"
   ]
  },
  {
   "cell_type": "code",
   "execution_count": 91,
   "metadata": {
    "collapsed": true
   },
   "outputs": [],
   "source": [
    "def parse_english_file(file_name=\"\"):\n",
    "    file = open(file_name, \"r\") \n",
    "    soup = BeautifulSoup(file.read(), 'lxml')\n",
    "    \n",
    "    #eng = soup.find(\"p\", class_=\"announceMessage\").find(\"i\").string\n",
    "    data_table = soup.find_all(\"table\", class_=\"dataTable\")\n",
    "    \n",
    "    content = \"\"\n",
    "    \n",
    "    for data in data_table:\n",
    "        arabic = data.find(\"div\", class_=\"metaArabic\").string\n",
    "        rows = data.find_all(\"tr\")\n",
    "        for row in rows:\n",
    "            english = row.find(\"td\", class_=\"tdStandard\")\n",
    "            if english is not None:\n",
    "                english = english.string\n",
    "            else:\n",
    "                english = \"\"\n",
    "\n",
    "            freq = row.find(\"td\", class_=\"tdFreq\")\n",
    "            if freq is not None:\n",
    "                freq = freq.string.replace(',','')\n",
    "            else:\n",
    "                freq = \"\"\n",
    "            if (english != \"\" and freq != \"\"):\n",
    "                content += \"{a}|{e}|{f}\\n\".format(e=english,a=arabic,f=freq)\n",
    "    return content"
   ]
  },
  {
   "cell_type": "code",
   "execution_count": 92,
   "metadata": {
    "collapsed": true
   },
   "outputs": [],
   "source": [
    "def parse_arabic_file(file_name=\"\"):\n",
    "    file = open(file_name, \"r\") \n",
    "    soup = BeautifulSoup(file.read(), 'lxml')\n",
    "    \n",
    "    #eng = soup.find(\"p\", class_=\"announceMessage\").find(\"i\").string\n",
    "    data_table = soup.find_all(\"table\", class_=\"dataTable\")\n",
    "    \n",
    "    content = \"\"\n",
    "    \n",
    "    for data in data_table:\n",
    "        english = \"\"\n",
    "        freq = \"\"\n",
    "        header = data.find(\"th\", class_=\"metaHeader\").find_all(\"div\")\n",
    "        \n",
    "        for div in header:\n",
    "            if (div.string == \"Standard Romanization:\"):\n",
    "                english = div.find_next_sibling(\"div\", class_=\"metaValue\")\n",
    "            if (div.string == \"Frequency:\"):\n",
    "                freq = div.find_next_sibling(\"div\", class_=\"metaValue\")\n",
    "            \n",
    "        if english is not None:\n",
    "            english = english.string\n",
    "        else:\n",
    "            freq = \"\"\n",
    "        if freq is not None:\n",
    "            freq = freq.string.replace(',','')\n",
    "        else:\n",
    "            freq = \"\"\n",
    "\n",
    "        rows = data.find_all(\"tr\")\n",
    "        for row in rows:\n",
    "            arabic = row.find(\"td\", class_=\"tdArabic\")\n",
    "            if arabic is not None:\n",
    "                arabic = arabic.string\n",
    "            else:\n",
    "                arabic = \"\"\n",
    "            if (arabic != \"\" and freq != \"\"):\n",
    "                content += \"{a}|{e}|{f}\\n\".format(e=english,a=arabic,f=freq)\n",
    "    return content"
   ]
  },
  {
   "cell_type": "code",
   "execution_count": 93,
   "metadata": {
    "collapsed": true
   },
   "outputs": [],
   "source": [
    "content = \"\"\n",
    "for root, dirs, files in os.walk(\"/home/jupyter/DAN_Demo\"):\n",
    "    for file in files:\n",
    "        if file.endswith(\"english.htm\"):\n",
    "             content += parse_english_file(os.path.join(root, file))\n",
    "\n",
    "with codecs.open('/home/jupyter/DAN_Demo/english_given_names.csv', 'w', encoding='utf8') as f:\n",
    "    f.write(content)\n",
    "\n",
    "f.close()"
   ]
  },
  {
   "cell_type": "code",
   "execution_count": 94,
   "metadata": {
    "collapsed": true
   },
   "outputs": [],
   "source": [
    "content = \"\"\n",
    "for root, dirs, files in os.walk(\"/home/jupyter/DAN_Demo\"):\n",
    "    for file in files:\n",
    "        if file.endswith(\"arabic.htm\"):\n",
    "             content += parse_arabic_file(os.path.join(root, file))\n",
    "\n",
    "with codecs.open('/home/jupyter/DAN_Demo/arabic_given_names.csv', 'w', encoding='utf8') as f:\n",
    "    f.write(content)\n",
    "\n",
    "f.close()"
   ]
  },
  {
   "cell_type": "code",
   "execution_count": 9,
   "metadata": {},
   "outputs": [],
   "source": [
    "import numpy as np\n",
    "\n",
    "with codecs.open('/home/jupyter/DAN_Demo/abd-al-raheem.txt', 'r', encoding='utf8') as f:\n",
    "    content = f.read().split('\\n')\n",
    "f.close()\n",
    "\n",
    "arb_versions = ['عبدالرحيم',\n",
    "'عبد الرحيم',\n",
    "'عبده الرحيم',\n",
    "'عبدو الرحيم',\n",
    "'عبدوالرهيم',\n",
    "'عبدالرهيم',\n",
    "'عبد الرهيم',\n",
    "'عبدررحيم',\n",
    "'عبدررهيم',\n",
    "'ابدالرحيم',\n",
    "'أبدالرحيم',\n",
    "'ابد الرحيم',\n",
    "'أبد الرحيم',\n",
    "'ابد رحيم',\n",
    "'أبد رحيم',\n",
    "'ابد رحيم',\n",
    "'أبد رحيم',\n",
    "'ابدرحيم',\n",
    "'أبدرحيم',\n",
    "'ابدررحيم',\n",
    "'أبدررحيم',\n",
    "'ابدرهيم',\n",
    "'أبدرهيم',\n",
    "'ابدررهيم',\n",
    "'أبدررهيم',\n",
    "'ابيدالرهيم',\n",
    "'ابيد الرهيم',\n",
    "'ابيد الرحيم',\n",
    "'ابيدالرحيم']\n",
    "\n",
    "\n",
    "output = \"\"\n",
    "for eng in content:\n",
    "    for arb in arb_versions:\n",
    "        freq = np.random.randint(low=0, high=40000)\n",
    "        output +=\"{a}|{e}|{f}\\n\".format(e=eng,a=arb,f=freq)\n",
    "        \n",
    "with codecs.open('/home/jupyter/DAN_Demo/abd-al-raheem.csv', 'w', encoding='utf8') as f:\n",
    "    f.write(output)\n",
    "\n",
    "f.close()\n",
    "    "
   ]
  },
  {
   "cell_type": "code",
   "execution_count": null,
   "metadata": {
    "collapsed": true
   },
   "outputs": [],
   "source": []
  }
 ],
 "metadata": {
  "kernelspec": {
   "display_name": "Python 3",
   "language": "python",
   "name": "python3"
  },
  "language_info": {
   "codemirror_mode": {
    "name": "ipython",
    "version": 3
   },
   "file_extension": ".py",
   "mimetype": "text/x-python",
   "name": "python",
   "nbconvert_exporter": "python",
   "pygments_lexer": "ipython3",
   "version": "3.6.1"
  }
 },
 "nbformat": 4,
 "nbformat_minor": 2
}
