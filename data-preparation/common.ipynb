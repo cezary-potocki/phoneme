{
 "cells": [
  {
   "cell_type": "code",
   "execution_count": 1,
   "metadata": {
    "collapsed": true
   },
   "outputs": [],
   "source": [
    "import psycopg2\n",
    "from configparser import ConfigParser\n",
    "\n",
    "def config(filename='prepare_data.ini', section='phonetic'):\n",
    "    # create a parser\n",
    "    parser = ConfigParser()\n",
    "    # read config file\n",
    "    parser.read(filename)\n",
    " \n",
    "    # get section, default to postgresql\n",
    "    db = {}\n",
    "    if parser.has_section(section):\n",
    "        params = parser.items(section)\n",
    "        for param in params:\n",
    "            db[param[0]] = param[1]\n",
    "    else:\n",
    "        raise Exception('Section {0} not found in the {1} file'.format(section, filename))\n",
    " \n",
    "    return db\n",
    "\n",
    "def db_connect():\n",
    "    \"\"\" Connect to the PostgreSQL database server \"\"\"\n",
    "    conn = None\n",
    "    # read connection parameters\n",
    "    params = config()\n",
    "\n",
    "    # connect to the PostgreSQL server\n",
    "    print('Connecting to the PostgreSQL database...')\n",
    "    conn = psycopg2.connect(**params)\n",
    "\n",
    "    return conn"
   ]
  },
  {
   "cell_type": "code",
   "execution_count": 2,
   "metadata": {},
   "outputs": [
    {
     "name": "stdout",
     "output_type": "stream",
     "text": [
      "Connecting to the PostgreSQL database...\n",
      "GET_ENGLISH_FROM_ARABIC\n",
      "[('GAMZA', Decimal('1')), ('H', Decimal('2')), ('HAMZA', Decimal('27882'))]\n",
      "GET_ARABIC_FROM_ENGLISH\n",
      "[('حمزه', Decimal('27882')), ('حمزة', Decimal('8554'))]\n",
      "Database connection closed.\n"
     ]
    }
   ],
   "source": [
    "prepare_english_from_arabic = \"\"\"\n",
    "    PREPARE GET_ENGLISH_FROM_ARABIC AS\n",
    "     SELECT NAME, SUM(COUNT) FROM (\n",
    "        SELECT SPM_ENAME AS NAME, COUNT(SPM_ENAME) AS COUNT FROM PERSON_MASTER WHERE SPM_ANAME != '' AND SPM_ENAME != '' AND SPM_ANAME = $1 GROUP BY SPM_ENAME\n",
    "        UNION ALL SELECT SPM_FATHER_ENAME, COUNT(SPM_FATHER_ENAME) FROM PERSON_MASTER WHERE SPM_FATHER_ANAME != '' AND SPM_FATHER_ENAME != '' AND SPM_FATHER_ANAME = $1 GROUP BY SPM_FATHER_ENAME\n",
    "        UNION ALL SELECT SPM_GRAND_ENAME, COUNT(SPM_GRAND_ENAME) FROM PERSON_MASTER WHERE SPM_GRAND_ANAME != '' AND SPM_GRAND_ENAME != '' AND SPM_GRAND_ANAME = $1 GROUP BY SPM_GRAND_ENAME\n",
    "        UNION ALL SELECT SPM_POST_GRAND_ENAME, COUNT(SPM_POST_GRAND_ENAME) FROM PERSON_MASTER WHERE SPM_POST_GRAND_ANAME != '' AND SPM_POST_GRAND_ENAME != '' AND SPM_POST_GRAND_ANAME = $1 GROUP BY SPM_POST_GRAND_ENAME\n",
    "        UNION ALL SELECT SPM_FIFTH_ENAME, COUNT(SPM_FIFTH_ENAME) FROM PERSON_MASTER WHERE SPM_FIFTH_ANAME != '' AND SPM_FIFTH_ENAME != '' AND SPM_FIFTH_ANAME = $1 GROUP BY SPM_FIFTH_ENAME\n",
    "        UNION ALL SELECT SPM_FAMILY_ENAME, COUNT(SPM_FAMILY_ENAME) FROM PERSON_MASTER WHERE SPM_FAMILY_ANAME != '' AND SPM_FAMILY_ENAME != '' AND SPM_FAMILY_ANAME = $1 GROUP BY SPM_FAMILY_ENAME\n",
    "        UNION ALL SELECT SPM_MOTHER_ENAME, COUNT(SPM_MOTHER_ENAME) FROM PERSON_MASTER WHERE SPM_MOTHER_ANAME != '' AND SPM_MOTHER_ENAME != '' AND SPM_MOTHER_ANAME = $1 GROUP BY SPM_MOTHER_ENAME\n",
    "        UNION ALL SELECT SPM_MOTHER_FATHER_ENAME, COUNT(SPM_MOTHER_FATHER_ENAME) FROM PERSON_MASTER WHERE SPM_MOTHER_FATHER_ANAME != '' AND SPM_MOTHER_FATHER_ENAME != '' AND SPM_MOTHER_FATHER_ANAME = $1 GROUP BY SPM_MOTHER_FATHER_ENAME\n",
    "        UNION ALL SELECT SPM_CLAN_ENAME, COUNT(SPM_CLAN_ENAME) FROM PERSON_MASTER WHERE SPM_CLAN_ANAME != '' AND SPM_CLAN_ENAME != '' AND SPM_CLAN_ANAME = $1 GROUP BY SPM_CLAN_ENAME\n",
    "    ) AS SUB group BY NAME;\n",
    "    \"\"\"\n",
    "\n",
    "prepare_arabic_from_english = \"\"\"\n",
    "    PREPARE GET_ARABIC_FROM_ENGLISH AS\n",
    "    SELECT NAME, SUM(COUNT) FROM (\n",
    "        SELECT SPM_ANAME AS NAME, COUNT(SPM_ANAME) AS COUNT FROM PERSON_MASTER WHERE SPM_ANAME != '' AND SPM_ENAME != '' AND SPM_ENAME = $1 GROUP BY SPM_ANAME\n",
    "        UNION ALL SELECT SPM_FATHER_ANAME, COUNT(SPM_FATHER_ANAME) FROM PERSON_MASTER WHERE SPM_FATHER_ANAME != '' AND SPM_FATHER_ENAME != '' AND SPM_FATHER_ENAME = $1 GROUP BY SPM_FATHER_ANAME\n",
    "        UNION ALL SELECT SPM_GRAND_ANAME, COUNT(SPM_GRAND_ANAME) FROM PERSON_MASTER WHERE SPM_GRAND_ANAME != '' AND SPM_GRAND_ENAME != '' AND SPM_GRAND_ENAME = $1 GROUP BY SPM_GRAND_ANAME\n",
    "        UNION ALL SELECT SPM_POST_GRAND_ANAME, COUNT(SPM_POST_GRAND_ANAME) FROM PERSON_MASTER WHERE SPM_POST_GRAND_ANAME != '' AND SPM_POST_GRAND_ENAME != '' AND SPM_POST_GRAND_ENAME = $1 GROUP BY SPM_POST_GRAND_ANAME\n",
    "        UNION ALL SELECT SPM_FIFTH_ANAME, COUNT(SPM_FIFTH_ANAME) FROM PERSON_MASTER WHERE SPM_FIFTH_ANAME != '' AND SPM_FIFTH_ENAME != '' AND SPM_FIFTH_ENAME = $1 GROUP BY SPM_FIFTH_ANAME\n",
    "        UNION ALL SELECT SPM_FAMILY_ANAME, COUNT(SPM_FAMILY_ENAME) FROM PERSON_MASTER WHERE SPM_FAMILY_ANAME != '' AND SPM_FAMILY_ENAME != '' AND SPM_FAMILY_ENAME= $1 GROUP BY SPM_FAMILY_ANAME\n",
    "        UNION ALL SELECT SPM_MOTHER_ANAME, COUNT(SPM_MOTHER_ANAME) FROM PERSON_MASTER WHERE SPM_MOTHER_ANAME != '' AND SPM_MOTHER_ENAME != '' AND SPM_MOTHER_ENAME = $1 GROUP BY SPM_MOTHER_ANAME\n",
    "        UNION ALL SELECT SPM_MOTHER_FATHER_ANAME, COUNT(SPM_MOTHER_FATHER_ANAME) FROM PERSON_MASTER WHERE SPM_MOTHER_FATHER_ANAME != '' AND SPM_MOTHER_FATHER_ENAME != '' AND SPM_MOTHER_FATHER_ENAME = $1 GROUP BY SPM_MOTHER_FATHER_ANAME\n",
    "        UNION ALL SELECT SPM_CLAN_ANAME, COUNT(SPM_CLAN_ANAME) FROM PERSON_MASTER WHERE SPM_CLAN_ANAME != '' AND SPM_CLAN_ENAME != '' AND SPM_CLAN_ENAME = $1 GROUP BY SPM_CLAN_ANAME\n",
    "    ) AS SUB group BY NAME;\n",
    "    \"\"\"\n",
    "\n",
    "conn = db_connect()\n",
    "try:\n",
    "    # create a cursor\n",
    "    cur = conn.cursor()\n",
    "\n",
    "    # prepare statements\n",
    "    cur.execute(prepare_english_from_arabic)\n",
    "    cur.execute(prepare_arabic_from_english)\n",
    "    \n",
    "    #execute statement\n",
    "    print('GET_ENGLISH_FROM_ARABIC')\n",
    "    cur.execute(\"execute GET_ENGLISH_FROM_ARABIC('حمزه');\")\n",
    "    \n",
    "    # display the PostgreSQL database server version\n",
    "    result = cur.fetchall()\n",
    "    print(result)\n",
    "    \n",
    "    #execute statement\n",
    "    print('GET_ARABIC_FROM_ENGLISH')\n",
    "    cur.execute(\"execute GET_ARABIC_FROM_ENGLISH('HAMZA');\")\n",
    "    \n",
    "    # display the PostgreSQL database server version\n",
    "    result = cur.fetchall()\n",
    "    print(result)\n",
    "    \n",
    "\n",
    "    # close the communication with the PostgreSQL\n",
    "    cur.close()\n",
    "except (Exception, psycopg2.DatabaseError) as error:\n",
    "    print(error)\n",
    "finally:\n",
    "    if conn is not None:\n",
    "        conn.close()\n",
    "        print('Database connection closed.')"
   ]
  },
  {
   "cell_type": "code",
   "execution_count": null,
   "metadata": {
    "collapsed": true
   },
   "outputs": [],
   "source": []
  }
 ],
 "metadata": {
  "kernelspec": {
   "display_name": "Python 3",
   "language": "python",
   "name": "python3"
  },
  "language_info": {
   "codemirror_mode": {
    "name": "ipython",
    "version": 3
   },
   "file_extension": ".py",
   "mimetype": "text/x-python",
   "name": "python",
   "nbconvert_exporter": "python",
   "pygments_lexer": "ipython3",
   "version": "3.6.1"
  }
 },
 "nbformat": 4,
 "nbformat_minor": 2
}
