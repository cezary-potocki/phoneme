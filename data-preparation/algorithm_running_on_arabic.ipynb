{
 "cells": [
  {
   "cell_type": "code",
   "execution_count": 23,
   "metadata": {
    "collapsed": true
   },
   "outputs": [],
   "source": [
    "import psycopg2\n",
    "from configparser import ConfigParser\n",
    "\n",
    "def config(filename='prepare_data.ini', section='phonetic'):\n",
    "    # create a parser\n",
    "    parser = ConfigParser()\n",
    "    # read config file\n",
    "    parser.read(filename)\n",
    " \n",
    "    # get section, default to postgresql\n",
    "    db = {}\n",
    "    if parser.has_section(section):\n",
    "        params = parser.items(section)\n",
    "        for param in params:\n",
    "            db[param[0]] = param[1]\n",
    "    else:\n",
    "        raise Exception('Section {0} not found in the {1} file'.format(section, filename))\n",
    " \n",
    "    return db\n",
    "\n",
    "def db_connect():\n",
    "    \"\"\" Connect to the PostgreSQL database server \"\"\"\n",
    "    conn = None\n",
    "    # read connection parameters\n",
    "    params = config()\n",
    "\n",
    "    # connect to the PostgreSQL server\n",
    "    print('Connecting to the PostgreSQL database...')\n",
    "    conn = psycopg2.connect(**params)\n",
    "\n",
    "    return conn"
   ]
  },
  {
   "cell_type": "code",
   "execution_count": 24,
   "metadata": {
    "collapsed": true
   },
   "outputs": [],
   "source": [
    "def get_english_variants(cursor, arabic_name):\n",
    "    query = \"\"\"\n",
    "    SELECT NAME, SUM(COUNT) FROM (\n",
    "        SELECT ENG AS NAME, COUNT FROM GIVEN_NAMES_MASTER\n",
    "        WHERE ARB IS NOT NULL AND ENG IS NOT NULL AND ARB != '' AND ENG != '' AND ARB = '\"\"\" + arabic_name + \"\"\"'\n",
    "        UNION ALL SELECT ENG AS NAME, COUNT FROM FAMILY_NAMES_MASTER\n",
    "        WHERE ARB IS NOT NULL AND ENG IS NOT NULL AND ARB != '' AND ENG != '' AND ARB = '\"\"\" + arabic_name + \"\"\"'\n",
    "    ) AS SUB group BY NAME;\n",
    "    \"\"\"     \n",
    "    \n",
    "    result = {}\n",
    "    \n",
    "    cur.execute(query)\n",
    "    result.update(cur.fetchall())\n",
    "    \n",
    "    return result\n",
    "\n",
    "def get_arabic_variants(cursor, english_name): \n",
    "    query = \"\"\"\n",
    "        SELECT SUB.NAME, SUM(COUNT) FROM (\n",
    "            SELECT ARB AS NAME, COUNT FROM GIVEN_NAMES_MASTER\n",
    "            WHERE ARB IS NOT NULL AND ENG IS NOT NULL AND ARB != '' AND ENG != '' AND ENG = '\"\"\" + english_name + \"\"\"' \n",
    "            UNION ALL SELECT ARB AS NAME, COUNT FROM FAMILY_NAMES_MASTER\n",
    "            WHERE ARB IS NOT NULL AND ENG IS NOT NULL AND ARB != '' AND ENG != '' AND ENG = '\"\"\" + english_name + \"\"\"' \n",
    "        ) AS SUB GROUP BY NAME;\n",
    "        \"\"\"     \n",
    "    result = {}\n",
    "\n",
    "    cur.execute(query)\n",
    "    result.update(cur.fetchall())\n",
    "    \n",
    "    return result\n",
    "\n",
    "def validate_arabic_name_by_english_variations(cursor, arabic_name, valid_english_variations):\n",
    "    english_variations = get_english_variants(cursor, arabic_name)\n",
    "    total_valid_count = 0\n",
    "    total_invalid_count = 0\n",
    "    \n",
    "    total = sum(english_variations.values())\n",
    "    if total < 3:\n",
    "        return False\n",
    "\n",
    "    for key, val in english_variations.items():\n",
    "        if key in valid_english_variations:\n",
    "            total_valid_count += val\n",
    "        else:\n",
    "            total_invalid_count += val\n",
    "    \n",
    "    #print(\"for {name}: valid: {valid}, invalid: {invalid}\".format(name=arabic_name, valid=total_valid_count, invalid=total_invalid_count))\n",
    "    \n",
    "    if total_valid_count < 3:\n",
    "        return False\n",
    "\n",
    "    if total_valid_count > total_invalid_count or total_valid_count > 100:\n",
    "        return True\n",
    "    \n",
    "    print(\"english variations for {name} are: {dic}\".format(name=arabic_name, dic=english_variations))\n",
    "    return False\n",
    "    \n",
    "def validate_english_name_by_arabic_variations(cursor, english_name, valid_arabic_variations):\n",
    "    arabic_variations = get_arabic_variants(cursor, english_name)\n",
    "    total_valid_count = 0\n",
    "    total_invalid_count = 0\n",
    "    \n",
    "    total = sum(arabic_variations.values())\n",
    "    if total < 3:\n",
    "        return False\n",
    "    \n",
    "    for key, val in arabic_variations.items():\n",
    "        if key in valid_arabic_variations:\n",
    "            total_valid_count += val\n",
    "        else:\n",
    "            total_invalid_count += val\n",
    "    \n",
    "    #print(\"for {name}: valid: {valid}, invalid: {invalid}\".format(name=arabic_name, valid=total_valid_count, invalid=total_invalid_count))\n",
    "\n",
    "    if total_valid_count < 3:\n",
    "        return False\n",
    "    \n",
    "    if total_valid_count > total_invalid_count or total_valid_count > 100:\n",
    "        return True\n",
    "    \n",
    "    print(\"arabic variations for {name} are: {dic}\".format(name=english_name, dic=arabic_variations))\n",
    "    return False\n",
    "\n",
    "def get_top_frequency_names(list):\n",
    "    total = sum(list.values())\n",
    "    lower_accepted_frequency = 100\n",
    "    threshold = 10\n",
    "    \n",
    "    max_value = max(list.values())\n",
    "    if total > 6561:\n",
    "        threshold = 1\n",
    "    else:\n",
    "        threshold -= total**(1./4.)\n",
    "        \n",
    "    print(\"threshold: {thre}, total: {tot}\".format(thre=threshold, tot=total))\n",
    "    matched_list = [key for key, val in list.items() \n",
    "                    if len(key) > 2 and \n",
    "                    key not in top_noise_data and \n",
    "                    (val / total * 100 > threshold or val >= lower_accepted_frequency)]\n",
    "    print(\"top matched_list: {thre}\".format(thre=matched_list))\n",
    "    not_matched_list = [ (key, val) for key, val in list.items() if val / total * 100 <= threshold and val < lower_accepted_frequency]\n",
    "    matched_list_with_composite = [key for key, val in list.items() if any(match in key for match in matched_list)]\n",
    "    if(len(matched_list_with_composite) - len(matched_list) > 3):\n",
    "        return matched_list\n",
    "    \n",
    "    return matched_list_with_composite"
   ]
  },
  {
   "cell_type": "code",
   "execution_count": 25,
   "metadata": {},
   "outputs": [
    {
     "name": "stdout",
     "output_type": "stream",
     "text": [
      "Connecting to the PostgreSQL database...\n"
     ]
    }
   ],
   "source": [
    "conn = db_connect()\n",
    "cur = conn.cursor()\n",
    "english_total_result = []\n",
    "english_top_frequency = []\n",
    "arabic_total_result = []\n",
    "arabic_top_frequency = []\n",
    "top_noise_data = []\n",
    "origin_name = ''\n",
    "def reset_global_variables(name):\n",
    "    global cur, english_total_result, english_top_frequency, arabic_total_result, arabic_top_frequency, top_noise_data, origin_name\n",
    "    cur = conn.cursor()\n",
    "    english_total_result = []\n",
    "    english_top_frequency = []\n",
    "    arabic_total_result = []\n",
    "    arabic_top_frequency = []\n",
    "    top_noise_data = ['MRS', 'MRS.', 'MRSS', 'MR', 'MR.', 'MISS']\n",
    "    origin_name = name"
   ]
  },
  {
   "cell_type": "code",
   "execution_count": 32,
   "metadata": {},
   "outputs": [
    {
     "name": "stdout",
     "output_type": "stream",
     "text": [
      "english variations: {'ALEXANDRA': 2, 'ALLA': 2, 'AM': 2, 'ANA': 2, 'ANAHIT': 2, 'ANDRIANAMBININA': 4, 'ANNA': 2, 'ASTANINA': 2, 'CABANLIT': 2, 'CASTILLO': 2, 'CORAZON': 2, 'DVORYANINOVA': 2, 'EKATERINA': 4, 'ELENA': 2, 'ELENITA': 2, 'ELIZAVETA': 2, 'ELVIRA': 3, 'EMMA': 3, 'EUFROSINA': 2, 'EVDOKIYA': 2, 'EVGENYA': 2, 'FANISA': 2, 'FATMA': 2, 'FE': 2, 'FLOR': 2, 'GALINA': 7, 'GALYAMDAN': 2, 'GEGHETSIK': 2, 'GILMANOVA': 2, 'GLSHAT': 2, 'GRYNEVYCH': 2, 'G TUGADI': 2, 'GULSIRA': 2, 'I': 2, 'IGNATENKO': 2, 'IONOV': 2, 'IRINA': 3, 'IVONOVA': 2, 'JULIETA': 2, 'KALENITINA': 2, 'KARAKAY': 2, 'KHAKIMA': 2, 'KHANIFA': 2, 'KHOVANSKAYA': 2, 'KLAVDIYA': 2, 'KODATSKA': 2, 'KOZLOV': 2, 'LARISA': 4, 'LIDIA': 2, 'LIDIIA': 2, 'LIDIYA': 2, 'LIUDMILA': 2, 'LIVITSKYI': 2, 'LIZA': 2, 'LUSINE': 2, 'LYUBOV': 2, 'M': 6, 'MADUNA': 2, 'MALOU': 2, 'MANIA': 2, 'MARGARITA': 2, 'MARIA': 2, 'MARIYA': 5, 'MARSHANI': 2, 'MORGACHEVA': 2, 'MRS': 411, 'MRSS': 2, 'MS': 21, 'N': 2, 'NA': 2, 'NADEZHDA': 3, 'NAIENA': 2, 'NAINA': 22080, 'NATALIA': 3, 'NAYNA': 6113, 'NEANA': 2, 'NEENA': 15127, 'NEINA': 9, 'NEINNA': 2, 'NENA': 156, 'NENAA': 2, 'NENE': 2, 'NENIA': 2, 'NENIH': 2, 'NENNA': 4, 'NIENA': 2, 'NIINA': 872, 'NIL': 54, 'NIN': 2, 'NINA': 95076, ' NINA': 3, 'NINA MAE': 2, 'NINA MARTINE': 2, 'NINNA': 5, 'NINUA': 21, 'NON': 2, 'NUNA': 2, 'NURA': 2, 'OLGA': 2, 'ORPILLA': 2, 'PETRENKO': 2, 'PETROPAVLOVSKAJ': 2, 'PETROVA': 2, 'RASOAMAHENINA': 7, 'RASOANAMBININA': 6, 'REVEKKA': 2, 'RIALP': 2, 'ROZA': 2, 'RUBTSOVA': 2, 'SANTI': 2, 'SICHEVA': 2, 'SOFIA': 2, 'SONDANG': 2, 'SOPERA': 2, 'TAISIYA': 2, 'TAMARA': 2, 'TATIANA': 2, 'TATYANA': 4, 'TEANA': 2, 'TETYANA': 2, 'TOKAREVA': 2, 'TRINIDAD': 2, 'UDANI': 2, 'UKRAINTSEVA': 2, 'VALENTINA': 8, 'VASILYA': 2, 'VENERA': 2, 'VERA': 4, 'VISTA': 2, 'VORONIN': 2, 'X': 4, 'YAGOFAROVA': 2, 'YERMOLOVA': 2, 'YUZEFA': 2, 'ZHUK': 2, 'ZOILA': 2, 'ZOYA': 2, 'ZULFIRA': 2, 'ZULFIYA': 2, 'آهىش': 2}\n",
      "threshold: 1, total: 140248\n",
      "top matched_list: ['NAINA', 'NAYNA', 'NEENA', 'NENA', 'NIINA', 'NINA']\n",
      "top english results: ['NAINA', 'NAYNA', 'NEENA', 'NENA', 'NIINA', 'NINA']\n"
     ]
    }
   ],
   "source": [
    "reset_global_variables('نينا')\n",
    "english_list = get_english_variants(cur, origin_name)\n",
    "print(\"english variations: {dct}\".format(dct=english_list))\n",
    "\n",
    "english_total_result = get_top_frequency_names(english_list)\n",
    "print(\"top english results: {dct}\".format(dct=english_total_result))"
   ]
  },
  {
   "cell_type": "code",
   "execution_count": 33,
   "metadata": {},
   "outputs": [
    {
     "name": "stdout",
     "output_type": "stream",
     "text": [
      "threshold: 1, total: 22568\n",
      "top matched_list: ['نعينع', 'نينا']\n",
      "threshold: 1.155925991484203, total: 6118\n",
      "top matched_list: ['نينا']\n",
      "threshold: 1, total: 15129\n",
      "top matched_list: ['نينا']\n",
      "threshold: 3.2802315799201427, total: 2039\n",
      "top matched_list: ['نعناع', 'ننا', 'نينا']\n",
      "threshold: 4.5658812931196655, total: 872\n",
      "top matched_list: ['نينا']\n",
      "threshold: 1, total: 95276\n",
      "top matched_list: ['نينا']\n",
      "top arabic results: ['ننا', 'نينا', 'نعينع', 'نعناع', 'نننا', 'نيناه']\n"
     ]
    }
   ],
   "source": [
    "iterable_list = english_total_result[:]\n",
    "for english_name in iterable_list:\n",
    "    arabic_list = get_arabic_variants(cur, english_name)\n",
    "    arabic_top_frequency = get_top_frequency_names(arabic_list)\n",
    "    arabic_total_result += arabic_top_frequency\n",
    "arabic_total_result = list(set(arabic_total_result))\n",
    "print(\"top arabic results: {dct}\".format(dct=arabic_total_result))"
   ]
  },
  {
   "cell_type": "code",
   "execution_count": 34,
   "metadata": {},
   "outputs": [
    {
     "name": "stdout",
     "output_type": "stream",
     "text": [
      "threshold: 2.134198502820448, total: 3828\n",
      "top matched_list: ['NENA', 'NNENNA']\n",
      "threshold: 1, total: 140248\n",
      "top matched_list: ['NAINA', 'NAYNA', 'NEENA', 'NENA', 'NIINA', 'NINA']\n",
      "threshold: 5.376412829151812, total: 457\n",
      "top matched_list: ['NAINA']\n",
      "threshold: 6.019675953172298, total: 251\n",
      "top matched_list: ['NENA']\n",
      "threshold: 8.810792884997278, total: 2\n",
      "top matched_list: ['NENA']\n",
      "threshold: 7.834263229332006, total: 22\n",
      "top matched_list: ['NAINA', 'NENAH', 'NINA', 'NINAH']\n",
      "top english results: ['NENAH', 'NAYNA', 'NENA', 'NAINA', 'NEENA', 'NINA', 'NINAH', 'NNENNA', 'NIINA']\n"
     ]
    }
   ],
   "source": [
    "iterable_list = arabic_total_result[:]\n",
    "for arabic_name in iterable_list:\n",
    "    english_list = get_english_variants(cur, arabic_name)\n",
    "    english_top_frequency = get_top_frequency_names(english_list)\n",
    "    english_total_result += english_top_frequency\n",
    "english_total_result = list(set(english_total_result))\n",
    "\n",
    "print(\"top english results: {dct}\".format(dct=english_total_result))"
   ]
  },
  {
   "cell_type": "code",
   "execution_count": 35,
   "metadata": {},
   "outputs": [
    {
     "name": "stdout",
     "output_type": "stream",
     "text": [
      "arabic variations for NENAH are: {'ننه': 449, 'نيناح': 4, 'نيناه': 10, 'نينه': 6}\n",
      "removing name: NENAH\n",
      "top english results: ['NAINA', 'NAYNA', 'NEENA', 'NENA', 'NIINA', 'NINA', 'NINAH', 'NNENNA']\n",
      "top english results count: 8\n"
     ]
    }
   ],
   "source": [
    "iterable_list = english_total_result[:]\n",
    "for english_name in iterable_list:\n",
    "    if not validate_english_name_by_arabic_variations(cur, english_name, arabic_total_result):\n",
    "        print(\"removing name: {name}\".format(name=english_name))\n",
    "        english_total_result.remove(english_name)\n",
    "        \n",
    "english_total_result.sort()\n",
    "print(\"top english results: {dct}\".format(dct=english_total_result))\n",
    "print(\"top english results count: {c}\".format(c=len(english_total_result)))"
   ]
  },
  {
   "cell_type": "code",
   "execution_count": 36,
   "metadata": {},
   "outputs": [
    {
     "name": "stdout",
     "output_type": "stream",
     "text": [
      "threshold: 1, total: 22568\n",
      "top matched_list: ['نعينع', 'نينا']\n",
      "threshold: 1.155925991484203, total: 6118\n",
      "top matched_list: ['نينا']\n",
      "threshold: 1, total: 15129\n",
      "top matched_list: ['نينا']\n",
      "threshold: 3.2802315799201427, total: 2039\n",
      "top matched_list: ['نعناع', 'ننا', 'نينا']\n",
      "threshold: 4.5658812931196655, total: 872\n",
      "top matched_list: ['نينا']\n",
      "threshold: 1, total: 95276\n",
      "top matched_list: ['نينا']\n",
      "threshold: 8.434915419926712, total: 6\n",
      "top matched_list: ['نيناه']\n",
      "threshold: 3.1458976819582434, total: 2207\n",
      "top matched_list: ['ننا']\n",
      "top arabic results: ['ننا', 'نينا', 'نعينع', 'نعناع', 'نننا', 'نيناه']\n"
     ]
    }
   ],
   "source": [
    "iterable_list = english_total_result[:]\n",
    "for english_name in iterable_list:\n",
    "    arabic_list = get_arabic_variants(cur, english_name)\n",
    "    arabic_top_frequency = get_top_frequency_names(arabic_list)\n",
    "    arabic_total_result += arabic_top_frequency\n",
    "arabic_total_result = list(set(arabic_total_result))\n",
    "print(\"top arabic results: {dct}\".format(dct=arabic_total_result))"
   ]
  },
  {
   "cell_type": "code",
   "execution_count": 37,
   "metadata": {},
   "outputs": [
    {
     "name": "stdout",
     "output_type": "stream",
     "text": [
      "removing name: نننا\n",
      "english variations for نيناه are: {'MRS': 2, 'NAINA': 2, 'NENAH': 10, 'NINA': 2, 'NINAH': 6}\n",
      "removing name: نيناه\n",
      "top arabic results: ['نعناع', 'نعينع', 'ننا', 'نينا']\n",
      "top arabic results count: 4\n"
     ]
    }
   ],
   "source": [
    "iterable_list = arabic_total_result[:]\n",
    "for arabic_name in iterable_list:\n",
    "    if not validate_arabic_name_by_english_variations(cur, arabic_name, english_total_result):\n",
    "        print(\"removing name: {name}\".format(name=arabic_name))\n",
    "        arabic_total_result.remove(arabic_name)\n",
    "        \n",
    "arabic_total_result.sort()\n",
    "print(\"top arabic results: {dct}\".format(dct=arabic_total_result))\n",
    "print(\"top arabic results count: {c}\".format(c=len(arabic_total_result)))"
   ]
  },
  {
   "cell_type": "code",
   "execution_count": null,
   "metadata": {
    "collapsed": true
   },
   "outputs": [],
   "source": []
  },
  {
   "cell_type": "code",
   "execution_count": null,
   "metadata": {
    "collapsed": true
   },
   "outputs": [],
   "source": []
  },
  {
   "cell_type": "code",
   "execution_count": null,
   "metadata": {
    "collapsed": true
   },
   "outputs": [],
   "source": []
  }
 ],
 "metadata": {
  "kernelspec": {
   "display_name": "Python 3",
   "language": "python",
   "name": "python3"
  },
  "language_info": {
   "codemirror_mode": {
    "name": "ipython",
    "version": 3
   },
   "file_extension": ".py",
   "mimetype": "text/x-python",
   "name": "python",
   "nbconvert_exporter": "python",
   "pygments_lexer": "ipython3",
   "version": "3.6.1"
  }
 },
 "nbformat": 4,
 "nbformat_minor": 2
}
