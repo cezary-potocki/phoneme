{
 "cells": [
  {
   "cell_type": "code",
   "execution_count": 1,
   "metadata": {
    "collapsed": true
   },
   "outputs": [],
   "source": [
    "import base64\n",
    "from Crypto.Cipher import AES\n",
    "from Crypto import Random\n",
    "\n",
    "BS = 16\n",
    "\n",
    "def pad(s):\n",
    "    result =  s + (BS - len(s.encode(\"utf-8\")) % BS) * chr(BS - len(s.encode(\"utf-8\")) % BS)\n",
    "    return result\n",
    "\n",
    "def unpad(s):\n",
    "    return s[:-ord(s[len(s)-1:])]\n",
    "\n",
    "class AESCipher(object):\n",
    "    def __init__(self, key):\n",
    "        self.key = key\n",
    "\n",
    "    def encrypt(self, raw):\n",
    "        raw = pad(raw)\n",
    "        iv = Random.new().read(AES.block_size)\n",
    "        cipher = AES.new(self.key, AES.MODE_CBC, iv)\n",
    "        return base64.b64encode(iv + cipher.encrypt(raw))\n",
    "\n",
    "    def decrypt(self, enc):\n",
    "        enc = base64.b64decode(enc)\n",
    "        iv = enc[:16]\n",
    "        cipher = AES.new(self.key, AES.MODE_CBC, iv)\n",
    "        return unpad(cipher.decrypt(enc[16:]))\n",
    "    \n",
    "secret = 'vQ4UZ8toFy2pUMXxeKn3F28vZREJPJ63'\n",
    "license_file_secret = 'oLMqbk4KpJ2kmVYGBcm3WZ6wCg2LFDNL'\n",
    "\n",
    "aes_cipher = AESCipher(secret)\n",
    "lic_cipher = AESCipher(license_file_secret)"
   ]
  },
  {
   "cell_type": "code",
   "execution_count": 2,
   "metadata": {
    "collapsed": true
   },
   "outputs": [],
   "source": [
    "import pandas as pd\n",
    "\n",
    "def decrypt_ea_log(source_filename):\n",
    "    df = pd.read_csv(source_filename, delimiter='\\t', header=None)\n",
    "    df.columns = ['eng', 'arb', 'is_from_dict']\n",
    "    \n",
    "    for index, row in df.iterrows():\n",
    "        try:\n",
    "            row[0] = aes_cipher.decrypt(row[0]).decode()\n",
    "            row[1] = aes_cipher.decrypt(row[1]).decode()\n",
    "            row[2] = aes_cipher.decrypt(row[2]).decode()\n",
    "        except:\n",
    "            print(\"index: {i}\".format(i=index))\n",
    "            print(\"row: {a}\\t{b}\\t{c}\".format(a=row[0], b=row[1], c=row[2]))\n",
    "            raise\n",
    "    return df\n",
    "\n",
    "def decrypt_dict(source_filename):\n",
    "    df = pd.read_csv(source_filename, delimiter='\\t', index_col=0)\n",
    "    \n",
    "    for index, row in df.iterrows():\n",
    "        try:\n",
    "            row['eng'] = aes_cipher.decrypt(row['eng']).decode(\"utf-8\")\n",
    "            row['arb'] = aes_cipher.decrypt(row['arb']).decode(\"utf-8\")\n",
    "        except:\n",
    "            print(\"index: {i}\".format(i=index))\n",
    "            print(\"row: {a}\\t{b}\".format(a=row[0], b=row[1]))\n",
    "            raise\n",
    "    return df\n",
    "    \n",
    "def encrypt_dict(source_filename):\n",
    "    df = pd.read_csv(source_filename, delimiter='\\t', index_col=0, usecols=[0,1,2])\n",
    "    for index, row in df.iterrows():\n",
    "        try:\n",
    "            row['eng'] = aes_cipher.encrypt(row['eng']).decode()\n",
    "            row['arb'] = aes_cipher.encrypt(row['arb']).decode(\"utf-8\")\n",
    "        except:\n",
    "            print(\"index: {i}\".format(i=index))\n",
    "            print(\"row: {a}\\t{b}\".format(a=row[0], b=row[1]))\n",
    "            raise\n",
    "    return df\n",
    "\n",
    "base_dir = \"/home/jupyter/notebooks/PoC/data-preparation/output/transliteration_datasets/\"\n",
    "    "
   ]
  },
  {
   "cell_type": "code",
   "execution_count": 11,
   "metadata": {
    "collapsed": true
   },
   "outputs": [],
   "source": [
    "ea_df = decrypt_ea_log(base_dir + 'ea_2.log')\n",
    "ea_df.to_csv( base_dir + 'ea_2_decrypted.tsv', sep='\\t')"
   ]
  },
  {
   "cell_type": "code",
   "execution_count": 4,
   "metadata": {
    "collapsed": true
   },
   "outputs": [],
   "source": [
    "ed_df_encrypted = encrypt_dict(base_dir +'eng_positive_trans.tsv')\n",
    "ed_df_encrypted.to_csv(base_dir + 'ea_dict.tsv', sep='\\t')"
   ]
  },
  {
   "cell_type": "code",
   "execution_count": null,
   "metadata": {
    "collapsed": true
   },
   "outputs": [],
   "source": [
    "ed_df_decrypted = decrypt_dict(base_dir + 'ea_dict.tsv')\n",
    "ed_df_decrypted.to_csv(base_dir + 'ea_dict_plain.tsv', sep='\\t')"
   ]
  },
  {
   "cell_type": "code",
   "execution_count": null,
   "metadata": {
    "collapsed": true
   },
   "outputs": [],
   "source": [
    "#create license file\n",
    "from time import gmtime, strftime\n",
    "from datetime import datetime\n",
    "\n",
    "#strftime(\"%Y-%m-%d %H:%M:%S\", gmtime())\n",
    "datetime_object = datetime.strptime(\"2018-03-01 18:18:08\", \"%Y-%m-%d %H:%M:%S\")\n",
    "datetime.strftime(datetime_object, \"%Y-%m-%d %H:%M:%S\")"
   ]
  },
  {
   "cell_type": "code",
   "execution_count": null,
   "metadata": {
    "collapsed": true
   },
   "outputs": [],
   "source": [
    "datetime.strftime(datetime_object, \"%Y-%m-%d %H:%M:%S\")"
   ]
  },
  {
   "cell_type": "code",
   "execution_count": 6,
   "metadata": {},
   "outputs": [],
   "source": [
    "l = list(secret)"
   ]
  },
  {
   "cell_type": "code",
   "execution_count": 10,
   "metadata": {},
   "outputs": [
    {
     "data": {
      "text/plain": [
       "'vQ4UZ8toFy2pUMXxeKn3F28vZREJPJ63'"
      ]
     },
     "execution_count": 10,
     "metadata": {},
     "output_type": "execute_result"
    }
   ],
   "source": [
    "''.join(l)"
   ]
  },
  {
   "cell_type": "code",
   "execution_count": null,
   "metadata": {
    "collapsed": true
   },
   "outputs": [],
   "source": []
  }
 ],
 "metadata": {
  "kernelspec": {
   "display_name": "Python 3",
   "language": "python",
   "name": "python3"
  },
  "language_info": {
   "codemirror_mode": {
    "name": "ipython",
    "version": 3
   },
   "file_extension": ".py",
   "mimetype": "text/x-python",
   "name": "python",
   "nbconvert_exporter": "python",
   "pygments_lexer": "ipython3",
   "version": "3.6.1"
  }
 },
 "nbformat": 4,
 "nbformat_minor": 2
}
